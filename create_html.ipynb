{
 "cells": [
  {
   "cell_type": "code",
   "execution_count": 1,
   "metadata": {},
   "outputs": [],
   "source": [
    "# The directory containing this code should also contain a folder\n",
    "# called \"html\". In order for this to work, your html folder should\n",
    "# contain folders of yellowjacket images (all should be made from the\n",
    "# same base set of images, so the number of images in each folder\n",
    "# needs to be the same)"
   ]
  },
  {
   "cell_type": "code",
   "execution_count": 2,
   "metadata": {},
   "outputs": [],
   "source": [
    "import glob\n",
    "import imageio\n",
    "import matplotlib.pyplot as plt\n",
    "import numpy as np\n",
    "import os\n",
    "from PIL import Image"
   ]
  },
  {
   "cell_type": "code",
   "execution_count": 3,
   "metadata": {},
   "outputs": [],
   "source": [
    "def listFiles(dir):\n",
    "    imageFiles={}\n",
    "    for root, dirs, files in os.walk(dir):\n",
    "        imageFiles[root[5:]] = sorted(glob.glob(root+'/*.png'))  # Select all JPG files in the specified folder\n",
    "    return imageFiles"
   ]
  },
  {
   "cell_type": "code",
   "execution_count": 4,
   "metadata": {},
   "outputs": [],
   "source": [
    "imageFiles = listFiles('html')\n",
    "\n",
    "f = open('html/output.html','w')\n",
    "\n",
    "message = \"\"\"<!DOCTYPE html>\n",
    "<html>\n",
    "<style>\n",
    "    table, th, td {\n",
    "        border: 1.5px solid dimgray;\n",
    "        border-collapse: collapse;\n",
    "    }\n",
    "    th, td {\n",
    "        padding: 2px;\n",
    "    }\n",
    "</style>\n",
    "\n",
    "<body style=\"background-color:#191919;color:white; text-align:center\">\n",
    "<table>\n",
    "    <tr>\n",
    "        <th>Image</th>\"\"\"\n",
    "for k in imageFiles.keys():\n",
    "    if k == \"\": continue\n",
    "    message += \"<th>\"+k+\"<br>(\"+\"<a href=\"+k+\"/corner_detection.ipynb>\"+\"See code</a>)</th>\"\n",
    "message +=\"</tr>\"\n",
    "\n",
    "for firstKey in imageFiles.keys(): continue # firstKey = some random key\n",
    "\n",
    "for imgNum in range(len(imageFiles[firstKey])):\n",
    "    imgName = imageFiles[firstKey][imgNum].split(firstKey)[1][1:]\n",
    "    message += \"\"\"\n",
    "    <tr>\n",
    "        <td>\"\"\"+imgName+\"\"\"</td>\"\"\"\n",
    "\n",
    "    for k in imageFiles.keys():\n",
    "        if k == \"\": continue\n",
    "        message += \"\"\"\n",
    "        <td><img src=\\\"\"\"\"+imageFiles[k][imgNum][5:]+\"\"\"\\\"></td>\"\"\"\n",
    "\n",
    "    message += \"\"\"</tr>\"\"\"\n",
    "message += \"\"\"  </table>\n",
    "</body>\n",
    "</html>\"\"\"\n",
    "\n",
    "f.write(message)\n",
    "f.close()"
   ]
  }
 ],
 "metadata": {
  "kernelspec": {
   "display_name": "Python 3.7.5 64-bit",
   "language": "python",
   "name": "python37564bitb643f979fb0e4b8c8985d0b2f5a73c8c"
  },
  "language_info": {
   "codemirror_mode": {
    "name": "ipython",
    "version": 3
   },
   "file_extension": ".py",
   "mimetype": "text/x-python",
   "name": "python",
   "nbconvert_exporter": "python",
   "pygments_lexer": "ipython3",
   "version": "3.8.2"
  }
 },
 "nbformat": 4,
 "nbformat_minor": 4
}
